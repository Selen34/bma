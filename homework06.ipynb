{
 "cells": [
  {
   "cell_type": "markdown",
   "metadata": {},
   "source": [
    "### 1. Найти производную выражения:"
   ]
  },
  {
   "cell_type": "markdown",
   "metadata": {},
   "source": [
    "1\n",
    "\\begin{equation}\n",
    "sin{x} \\cdot cos{x} = cos^2{x} - sin^2{x}\n",
    "\\end{equation}"
   ]
  },
  {
   "cell_type": "markdown",
   "metadata": {},
   "source": [
    "2\n",
    "\\begin{equation}\n",
    "ln(2x+1)^3 = \\frac{3(2x+1)^2}{(2x+1)^3} = \\frac{3}{2x+1}\n",
    "\\end{equation}"
   ]
  },
  {
   "cell_type": "markdown",
   "metadata": {},
   "source": [
    "3\n",
    "\\begin{equation}\n",
    "\\sqrt{sin^2(ln(x^3))} = \\frac{2sin(ln(x^3))}{2\\sqrt{sin^2(ln(x^3)}} = 1\n",
    "\\end{equation}"
   ]
  },
  {
   "cell_type": "markdown",
   "metadata": {},
   "source": [
    "4\n",
    "\\begin{equation}\n",
    "\\frac{x^4}{ln(x)} = \\frac{4x^3ln(x) - x^3}{ln^2(x)}\n",
    "\\end{equation}"
   ]
  },
  {
   "cell_type": "markdown",
   "metadata": {},
   "source": [
    "### Найти выражение производной функции и ее значение в точке:"
   ]
  },
  {
   "cell_type": "markdown",
   "metadata": {},
   "source": [
    "1\n",
    "\\begin{equation}\n",
    "f(x) = cos(x^2+3x), x_0=\\sqrt{\\pi}\n",
    "\\end{equation}"
   ]
  },
  {
   "cell_type": "markdown",
   "metadata": {},
   "source": [
    "2\n",
    "\\begin{equation}\n",
    "f'(x) = -sin(x^2+3x)(2x+3) \\\\\n",
    "f'(\\pi) = -sin(\\pi + 3\\sqrt{\\pi})(2\\sqrt{\\pi} + 3) = -0.96\n",
    "\\end{equation}"
   ]
  },
  {
   "cell_type": "markdown",
   "metadata": {},
   "source": [
    "3\n",
    "\\begin{equation}\n",
    "f(x) = \\frac{x^3-x^2-x-1}{1+2x+3x^2-4x^3}, x_0=0\n",
    "\\end{equation}"
   ]
  },
  {
   "cell_type": "markdown",
   "metadata": {},
   "source": [
    "\\begin{equation}\n",
    "f'(x) = \\frac{(3x^2-2x-1)(1+2x+3x^2-4x^3)-(2+6x-12x^2)(x^3-x^2-x-1)}{(1+2x+3x^2-4x^3)^2} = \n",
    "\\end{equation}"
   ]
  },
  {
   "cell_type": "markdown",
   "metadata": {},
   "source": [
    "\\begin{equation}\n",
    "\\frac{23x^4-8x^3-4x^2-8x+1}{(1+2x+3x^2-4x^3)^2}\n",
    "\\end{equation}"
   ]
  },
  {
   "cell_type": "markdown",
   "metadata": {},
   "source": [
    "\\begin{equation}\n",
    "f'(0) = 1\n",
    "\\end{equation}"
   ]
  },
  {
   "cell_type": "markdown",
   "metadata": {},
   "source": [
    "### Найти угол наклона касательной к графику функции в точке"
   ]
  },
  {
   "cell_type": "markdown",
   "metadata": {},
   "source": [
    "\\begin{equation}\n",
    "f(x) = \\sqrt{3x}ln{x}, x_0=1\n",
    "\\end{equation}"
   ]
  },
  {
   "cell_type": "markdown",
   "metadata": {},
   "source": [
    "\\begin{equation}\n",
    "f'(x) = \\frac{ln{x}}{2\\sqrt{3x}} + \\frac{\\sqrt{3x}}{x}\n",
    "\\end{equation}"
   ]
  },
  {
   "cell_type": "markdown",
   "metadata": {},
   "source": [
    "\\begin{equation}\n",
    "f'(1) = \\sqrt{3} = 1.732\n",
    "\\end{equation}"
   ]
  },
  {
   "cell_type": "markdown",
   "metadata": {},
   "source": [
    "Ответ: угол примерно 60 градусов"
   ]
  }
 ],
 "metadata": {
  "kernelspec": {
   "display_name": "Python 3",
   "language": "python",
   "name": "python3"
  },
  "language_info": {
   "codemirror_mode": {
    "name": "ipython",
    "version": 3
   },
   "file_extension": ".py",
   "mimetype": "text/x-python",
   "name": "python",
   "nbconvert_exporter": "python",
   "pygments_lexer": "ipython3",
   "version": "3.7.3"
  }
 },
 "nbformat": 4,
 "nbformat_minor": 2
}
