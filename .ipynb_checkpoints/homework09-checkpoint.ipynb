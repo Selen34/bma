{
 "cells": [
  {
   "cell_type": "markdown",
   "metadata": {},
   "source": [
    "## Task 1"
   ]
  },
  {
   "cell_type": "markdown",
   "metadata": {},
   "source": [
    "Исследовать функцию на условный экстремум"
   ]
  },
  {
   "cell_type": "markdown",
   "metadata": {},
   "source": [
    "$U = 3-8x + 6y$, если $x^2 + y^2 = 36$"
   ]
  },
  {
   "cell_type": "markdown",
   "metadata": {},
   "source": [
    "$L(\\lambda, x, y) = 3 - 8x + 6y + \\lambda (x^2 + y^2 - 36)$"
   ]
  },
  {
   "cell_type": "markdown",
   "metadata": {},
   "source": [
    "$\n",
    "\\left\\{\n",
    "\\begin{array}{ll}\n",
    "L'_x = -8 + 2x\\lambda = 0 \\\\\n",
    "L'_y = 6 + 2y\\lambda = 0  \\\\\n",
    "L'_\\lambda = x^2 + y^2 - 36 = 0\n",
    "\\end{array}\n",
    "\\right.\n",
    "$"
   ]
  },
  {
   "cell_type": "markdown",
   "metadata": {},
   "source": [
    "$\n",
    "\\left\\{\n",
    "\\begin{array}{ll}\n",
    "x = \\frac{4}{\\lambda}\\\\\n",
    "y = -\\frac{3}{\\lambda}  \\\\\n",
    "(\\frac{4}{\\lambda})^2 + (-\\frac{3}{\\lambda})^2 - 36 = 0\n",
    "\\end{array}\n",
    "\\right.\n",
    "$"
   ]
  },
  {
   "cell_type": "markdown",
   "metadata": {},
   "source": [
    "$\n",
    "\\lambda = \\pm \\frac{\\sqrt{21}}{6},\\\\ (\\frac{\\sqrt{21}}{6}, \\frac{8\\sqrt{21}}{7}, -\\frac{6\\sqrt{21}}{7}),\n",
    "(-\\frac{\\sqrt{21}}{6}, -\\frac{8\\sqrt{21}}{7}, \\frac{6\\sqrt{21}}{7})\n",
    "$"
   ]
  },
  {
   "cell_type": "markdown",
   "metadata": {},
   "source": [
    "$\n",
    "L''_{xx} = 2\\lambda, L''_{yy} = 2\\lambda, L''_{\\lambda\\lambda} = 0 \\\\\n",
    "L''_{xy} = 0, L''_{x\\lambda} = 2x, L''_{y\\lambda} = 2y\n",
    "$"
   ]
  },
  {
   "cell_type": "markdown",
   "metadata": {},
   "source": [
    "$\n",
    "\\begin{vmatrix}\n",
    "L''_{\\lambda\\lambda} & L''_{\\lambda x} & L''_{\\lambda y} \\\\\n",
    "L''_{x \\lambda} & L''_{xx} & L''_{xy} \\\\\n",
    "L''_{y \\lambda} & L''_{yx} & L''_{yy}\n",
    "\\end{vmatrix} = \n",
    "\\begin{vmatrix}\n",
    "0 & 2x & 2y \\\\\n",
    "2x & 2\\lambda & 0 \\\\\n",
    "2y & 0 & 0\n",
    "\\end{vmatrix} = \n",
    "2y \\cdot\n",
    "\\begin{vmatrix}\n",
    "2x & 2y \\\\\n",
    "2\\lambda & 0\n",
    "\\end{vmatrix}\n",
    "= -8y^2\\lambda\n",
    "$"
   ]
  },
  {
   "cell_type": "markdown",
   "metadata": {},
   "source": [
    "$\n",
    "-8\\cdot (-\\frac{6\\sqrt{21}}{7})^2 \\cdot \\frac{\\sqrt{21}}{6} = -24\n",
    "$"
   ]
  },
  {
   "cell_type": "markdown",
   "metadata": {},
   "source": [
    "$\n",
    "-8\\cdot (\\frac{6\\sqrt{21}}{7})^2 \\cdot -\\frac{\\sqrt{21}}{6} = 24\n",
    "$"
   ]
  },
  {
   "cell_type": "markdown",
   "metadata": {},
   "source": [
    "при $(\\frac{\\sqrt{21}}{6}, \\frac{8\\sqrt{21}}{7}, -\\frac{6\\sqrt{21}}{7})$ будет минимум, а при $(-\\frac{\\sqrt{21}}{6}, -\\frac{8\\sqrt{21}}{7}, \\frac{6\\sqrt{21}}{7})$ - максимум"
   ]
  },
  {
   "cell_type": "markdown",
   "metadata": {},
   "source": [
    "## Task 2"
   ]
  },
  {
   "cell_type": "markdown",
   "metadata": {},
   "source": [
    "$U = 2x^2 + 12xy + 32y^2 + 15$, если $x^2 + 16y^2 = 64$"
   ]
  },
  {
   "cell_type": "markdown",
   "metadata": {},
   "source": [
    "$L(\\lambda, x, y) = 2x^2 + 12xy + 32y^2 + 15 + \\lambda (x^2 + 16y^2 - 64)$"
   ]
  },
  {
   "cell_type": "markdown",
   "metadata": {},
   "source": [
    "$\n",
    "\\left\\{\n",
    "\\begin{array}{ll}\n",
    "L'_x = 4x + 12y + 2x\\lambda = 0\\\\\n",
    "L'_y = 12x + 64y + 32y\\lambda = 0\\\\\n",
    "L'_\\lambda = x^2 + 16y^2 - 64 = 0\n",
    "\\end{array}\n",
    "\\right.\n",
    "$"
   ]
  },
  {
   "cell_type": "markdown",
   "metadata": {},
   "source": [
    "$\n",
    "4x + 12y + 2x\\lambda = x(4+2\\lambda) + 12y = 0 \\\\\n",
    "x = -\\frac{12y}{4+2\\lambda}\n",
    "$"
   ]
  },
  {
   "cell_type": "markdown",
   "metadata": {},
   "source": [
    "$\n",
    "12x + 64y + 32y\\lambda = 12x + y(64+32\\lambda) = 16y(4+2\\lambda) - \\frac{144y}{4+2\\lambda} = 0\n",
    "$"
   ]
  },
  {
   "cell_type": "markdown",
   "metadata": {},
   "source": [
    "$\n",
    "\\frac{16y(4+2\\lambda)^2 - 144y}{4+2\\lambda} = 0, \\frac{16y(16 + 16\\lambda + 4\\lambda^2) - 144y}{4+2\\lambda} = 0\n",
    "$"
   ]
  },
  {
   "cell_type": "markdown",
   "metadata": {},
   "source": [
    "$\n",
    "\\frac{256y - 144y + 256y\\lambda + 64y\\lambda^2}{4+2\\lambda} = \\frac{64y\\lambda^2 + 256y\\lambda + 112y}{4+2\\lambda} = 0\n",
    "$"
   ]
  },
  {
   "cell_type": "markdown",
   "metadata": {},
   "source": [
    "$\n",
    "\\frac{64y((2+\\lambda)^2 - 4)+112y}{2(2+\\lambda)} = \\frac{64y(2+\\lambda)^2 - 144y}{2(2+\\lambda)} = 0\n",
    "$"
   ]
  },
  {
   "cell_type": "markdown",
   "metadata": {},
   "source": [
    "$\n",
    "\\frac{2y(32(2+\\lambda)^2 - 72)}{2(2+\\lambda)} = \\frac{32y(2+\\lambda)^2}{2+\\lambda} - \\frac{72y}{2+\\lambda} = 0\n",
    "$"
   ]
  },
  {
   "cell_type": "markdown",
   "metadata": {},
   "source": [
    "$\n",
    "32y(2+\\lambda) = \\frac{72y}{2+\\lambda}, (2+\\lambda)^2 = \\frac{72}{32}\n",
    "$"
   ]
  },
  {
   "cell_type": "markdown",
   "metadata": {},
   "source": [
    "$\n",
    "\\lambda^2 + 4\\lambda + \\frac{7}{4} = 0\n",
    "$"
   ]
  },
  {
   "cell_type": "markdown",
   "metadata": {},
   "source": [
    "$D = 16 - 4\\frac{7}{4} = 9, \\lambda_{1,2} = \\frac{-4 \\pm 3}{2} = (-7/2, -1/2)$"
   ]
  },
  {
   "cell_type": "markdown",
   "metadata": {},
   "source": [
    "$\n",
    "x_1 = -\\frac{12y}{4-2\\frac{7}{2}} = 4y, x_2 = -\\frac{12y}{4-2\\frac{1}{2}} = -4y\n",
    "$"
   ]
  },
  {
   "cell_type": "markdown",
   "metadata": {},
   "source": [
    "$\n",
    "(\\pm4y)^2 + 16y^2 - 64 = 0, y = \\pm\\sqrt{2}\n",
    "$"
   ]
  },
  {
   "cell_type": "markdown",
   "metadata": {},
   "source": [
    "$y_1 = \\pm\\sqrt{2}, y_2 = \\pm\\sqrt{2}$"
   ]
  },
  {
   "cell_type": "markdown",
   "metadata": {},
   "source": [
    "Получаем следующие точки:"
   ]
  },
  {
   "cell_type": "markdown",
   "metadata": {},
   "source": [
    "$\n",
    "(-3.5, 4\\sqrt{2}, \\sqrt{2}) \\\\ (-3.5, -4\\sqrt{2}, -\\sqrt{2}) \\\\ (-0.5, -4\\sqrt{2}, \\sqrt{2}) \\\\ (-0.5, 4\\sqrt{2}, -\\sqrt{2})\n",
    "$"
   ]
  },
  {
   "cell_type": "markdown",
   "metadata": {},
   "source": [
    "$\n",
    "\\left\\{\n",
    "\\begin{array}{ll}\n",
    "L'_x = 4x + 12y + 2x\\lambda = 0\\\\\n",
    "L'_y = 12x + 64y + 32y\\lambda = 0\\\\\n",
    "L'_\\lambda = x^2 + 16y^2 - 64 = 0\n",
    "\\end{array}\n",
    "\\right.\n",
    "$"
   ]
  },
  {
   "cell_type": "markdown",
   "metadata": {},
   "source": [
    "$\n",
    "L''_{xx} = 4 + 2\\lambda , L''_{yy} = 64+32\\lambda , L''_{\\lambda\\lambda} = 0 \\\\\n",
    "L''_{xy} = 12, L''_{x\\lambda} = 2x, L''_{y\\lambda} = 32y\n",
    "$"
   ]
  },
  {
   "cell_type": "markdown",
   "metadata": {},
   "source": [
    "\\begin{equation}\n",
    "\\begin{vmatrix}\n",
    "L''_{\\lambda\\lambda} & L''_{\\lambda x} & L''_{\\lambda y} \\\\\n",
    "L''_{x \\lambda} & L''_{xx} & L''_{xy} \\\\\n",
    "L''_{y \\lambda} & L''_{yx} & L''_{yy}\n",
    "\\end{vmatrix} = \n",
    "\\begin{vmatrix}\n",
    "0 & 2x & 32y \\\\\n",
    "2x & 4+2\\lambda & 12 \\\\\n",
    "32y & 12 & 0\n",
    "\\end{vmatrix} = \n",
    "-2x \\cdot\n",
    "\\begin{vmatrix}\n",
    "2x & 12 \\\\\n",
    "32y & 0\n",
    "\\end{vmatrix}\n",
    "+ 32y \\cdot\n",
    "\\begin{vmatrix}\n",
    "2x & 4+2\\lambda \\\\\n",
    "32y & 12\n",
    "\\end{vmatrix} = \n",
    "\\end{equation}"
   ]
  },
  {
   "cell_type": "markdown",
   "metadata": {},
   "source": [
    "$\n",
    "768xy + 32y(24x - 32y(4+2\\lambda)) = 768xy + 768xy - 1024y^2(4+2\\lambda) =\n",
    "$"
   ]
  },
  {
   "cell_type": "markdown",
   "metadata": {},
   "source": [
    "$1536xy - 4096y^2 - 2048\\lambda = 512(3xy - 8y^2 - 4\\lambda)$"
   ]
  },
  {
   "cell_type": "markdown",
   "metadata": {},
   "source": [
    "$\n",
    "(-3.5, 4\\sqrt{2}, \\sqrt{2}): \\Delta = 512(24 - 16 - 4(-3.5)) = 11264\n",
    "$, максимум"
   ]
  },
  {
   "cell_type": "markdown",
   "metadata": {},
   "source": [
    "$\n",
    "(-3.5, -4\\sqrt{2}, -\\sqrt{2}): \\Delta = 512(24 - 16 - 4(-3.5)) = 11264\n",
    "$, максимум"
   ]
  },
  {
   "cell_type": "markdown",
   "metadata": {},
   "source": [
    "$(-0.5, -4\\sqrt{2}, \\sqrt{2}): \\Delta = 512(-24 - 16 - 4(-0.5)) = -19456$, минимум"
   ]
  },
  {
   "cell_type": "markdown",
   "metadata": {},
   "source": [
    "$\n",
    "(-0.5, 4\\sqrt{2}, -\\sqrt{2}): \\Delta = 512(-24 - 16 + 2) = -19456\n",
    "$, минимум"
   ]
  },
  {
   "cell_type": "markdown",
   "metadata": {},
   "source": [
    "## Task 3"
   ]
  },
  {
   "cell_type": "markdown",
   "metadata": {},
   "source": [
    "Найти производную функции $U = x^2 + y^2 + z^2$ по направлению вектора $\\vec c(-9,8,-12)$ в точку M(8,-12,9);"
   ]
  },
  {
   "cell_type": "markdown",
   "metadata": {},
   "source": [
    "$\n",
    "U'_x = 2x \\\\ U'_y = 2y \\\\ U'_z = 2z\n",
    "$"
   ]
  },
  {
   "cell_type": "markdown",
   "metadata": {},
   "source": [
    "$\n",
    "|c| = \\sqrt{(-9)^2 + 8^2 + (-12)^2} = 17\n",
    "$"
   ]
  },
  {
   "cell_type": "markdown",
   "metadata": {},
   "source": [
    "$\n",
    "gradU(8, -12, 9) = (16, -22, 18)\n",
    "$"
   ]
  },
  {
   "cell_type": "markdown",
   "metadata": {},
   "source": [
    "$\n",
    "\\vec {b_0} = (-\\frac{9}{17}, \\frac{8}{17}, -\\frac{12}{17})\n",
    "$"
   ]
  },
  {
   "cell_type": "markdown",
   "metadata": {},
   "source": [
    "$\n",
    "U'_{\\vec b}(8,−12,9) = -16\\cdot\\frac{9}{17} - 22\\cdot\\frac{8}{17} - 18\\cdot\\frac{12}{17} = -\\frac{526}{17} = -31.53\n",
    "$"
   ]
  },
  {
   "cell_type": "markdown",
   "metadata": {},
   "source": [
    "## Task 4"
   ]
  },
  {
   "cell_type": "markdown",
   "metadata": {},
   "source": [
    "Найти производную функции $U = e^{x^2 + y^2 + z^2}$ по направлению вектора $\\vec d(4,-13,-16)$ в точку L(-16,4,-13);"
   ]
  },
  {
   "cell_type": "markdown",
   "metadata": {},
   "source": [
    "$\n",
    "U'_x = 2xe^{x^2 + y^2 + z^2} \\\\ U'_y = 2ye^{x^2 + y^2 + z^2} \\\\ U'_z = 2ze^{x^2 + y^2 + z^2}\n",
    "$"
   ]
  },
  {
   "cell_type": "markdown",
   "metadata": {},
   "source": [
    "$\n",
    "|d| = \\sqrt{4^2 + (-13)^2 + (-16)^2} = 21\n",
    "$"
   ]
  },
  {
   "cell_type": "markdown",
   "metadata": {},
   "source": [
    "$\n",
    "gradU(-16, 4, -13) = (-32e^{441}, 8e^{441}, -26e^{441})\n",
    "$"
   ]
  },
  {
   "cell_type": "markdown",
   "metadata": {},
   "source": [
    "$\\vec {d_0} = (4/21, -13/21, -16/21)$"
   ]
  },
  {
   "cell_type": "markdown",
   "metadata": {},
   "source": [
    "$\n",
    "U'_{\\vec d}(−16,4,−13) = \\frac{-4\\cdot32e^{441} - 13\\cdot8e^{441}+26\\cdot16e^{441}}{21} = \\frac{184}{21}e^{441} = 8.76e^{441}\n",
    "$"
   ]
  }
 ],
 "metadata": {
  "kernelspec": {
   "display_name": "Python 3",
   "language": "python",
   "name": "python3"
  },
  "language_info": {
   "codemirror_mode": {
    "name": "ipython",
    "version": 3
   },
   "file_extension": ".py",
   "mimetype": "text/x-python",
   "name": "python",
   "nbconvert_exporter": "python",
   "pygments_lexer": "ipython3",
   "version": "3.7.3"
  }
 },
 "nbformat": 4,
 "nbformat_minor": 2
}
