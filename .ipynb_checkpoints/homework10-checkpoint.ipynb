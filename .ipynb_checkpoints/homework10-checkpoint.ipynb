{
 "cells": [
  {
   "cell_type": "markdown",
   "metadata": {},
   "source": [
    "## Task 1"
   ]
  },
  {
   "cell_type": "markdown",
   "metadata": {},
   "source": [
    "Исследовать ряд на сходимость, используя признак д’Аламбера:"
   ]
  },
  {
   "cell_type": "markdown",
   "metadata": {},
   "source": [
    "$\n",
    "\\sum_{n=1}^{\\infty} \\frac{n^n}{(n!)^2}\n",
    "$"
   ]
  },
  {
   "cell_type": "markdown",
   "metadata": {},
   "source": [
    "$\n",
    "\\lim_{n \\to \\infty} \\frac{(n+1)^{n+1}(n!)^2}{((n+1)!)^2n^n} =\n",
    "\\lim_{n \\to \\infty} \\frac{(n+1)^{n+1}}{(n+1)^2n^n} = \n",
    "\\lim_{n \\to \\infty} \\frac{(n+1)^{n-1}}{n^n} = 0\n",
    "$"
   ]
  },
  {
   "cell_type": "markdown",
   "metadata": {},
   "source": [
    "$0 < 1 \\Rightarrow$ ряд сходится"
   ]
  },
  {
   "cell_type": "markdown",
   "metadata": {},
   "source": [
    "## Task 2"
   ]
  },
  {
   "cell_type": "markdown",
   "metadata": {},
   "source": [
    "Исследовать ряд на сходимость, используя радикальный признак Коши:"
   ]
  },
  {
   "cell_type": "markdown",
   "metadata": {},
   "source": [
    "$\n",
    "\\sum_{n=1}^{\\infty} \\frac{n}{2^n}\n",
    "$"
   ]
  },
  {
   "cell_type": "markdown",
   "metadata": {},
   "source": [
    "$\n",
    "\\lim_{n \\to \\infty} \\sqrt[n]{\\frac{n}{2^n}} =\n",
    "\\lim_{n \\to \\infty} \\frac{\\sqrt[n]{n}}{2} = \\frac{1}{2}\n",
    "$"
   ]
  },
  {
   "cell_type": "markdown",
   "metadata": {},
   "source": [
    "$\\frac{1}{2} < 1 \\Rightarrow$ ряд сходится"
   ]
  },
  {
   "cell_type": "markdown",
   "metadata": {},
   "source": [
    "## Task 3"
   ]
  },
  {
   "cell_type": "markdown",
   "metadata": {},
   "source": [
    "Исследовать ряд на сходимость, используя признак Лейбница:"
   ]
  },
  {
   "cell_type": "markdown",
   "metadata": {},
   "source": [
    "$\n",
    "\\sum_{n=1}^{\\infty} \\frac{(-1)^n}{n+\\ln n}\n",
    "$"
   ]
  },
  {
   "cell_type": "markdown",
   "metadata": {},
   "source": [
    "$\n",
    "\\lim_{n \\to \\infty} \\frac{(-1)^n}{n + \\ln n} = 0\n",
    "$"
   ]
  },
  {
   "cell_type": "markdown",
   "metadata": {},
   "source": [
    "$\n",
    "\\begin{vmatrix}\n",
    "\\frac{(-1)^n}{n + \\ln n}\n",
    "\\end{vmatrix}\n",
    "\\geq\n",
    "\\begin{vmatrix}\n",
    "\\frac{(-1)^{n+1}}{n + 1 + \\ln {(n + 1)}}\n",
    "\\end{vmatrix}\n",
    "$"
   ]
  },
  {
   "cell_type": "markdown",
   "metadata": {},
   "source": [
    "$\n",
    "\\lim_{n \\to \\infty} \\begin{vmatrix} \\frac{(-1)^n}{n + \\ln n} \\end{vmatrix} = 0\n",
    "$"
   ]
  },
  {
   "cell_type": "markdown",
   "metadata": {},
   "source": [
    "Ряд сходится абсолютно"
   ]
  },
  {
   "cell_type": "markdown",
   "metadata": {},
   "source": [
    "## Task 4"
   ]
  },
  {
   "cell_type": "markdown",
   "metadata": {},
   "source": [
    "Исследовать ряд на сходимость, используя признак Раабе:"
   ]
  },
  {
   "cell_type": "markdown",
   "metadata": {},
   "source": [
    "$\n",
    "\\sum_{n=1}^{\\infty} \\frac{3^n}{2^n}\n",
    "$"
   ]
  },
  {
   "cell_type": "markdown",
   "metadata": {},
   "source": [
    "` ¯\\_(ツ)_/¯`"
   ]
  },
  {
   "cell_type": "markdown",
   "metadata": {},
   "source": [
    "## Task 5"
   ]
  },
  {
   "cell_type": "markdown",
   "metadata": {},
   "source": [
    "Разложить функцию по Тейлору в единице:"
   ]
  },
  {
   "cell_type": "markdown",
   "metadata": {},
   "source": [
    "$f(x) = \\ln (16x^2)$"
   ]
  },
  {
   "cell_type": "markdown",
   "metadata": {},
   "source": [
    "$\n",
    "\\ln(16x^2) = \\ln 16 + 2(x-1)\n",
    "$"
   ]
  },
  {
   "cell_type": "markdown",
   "metadata": {},
   "source": [
    "**_Но кажется тут получаются бесконечные производные...._**"
   ]
  },
  {
   "cell_type": "markdown",
   "metadata": {},
   "source": [
    "## Task 6"
   ]
  },
  {
   "cell_type": "markdown",
   "metadata": {},
   "source": [
    "Дана функция $f(x) = x^2$"
   ]
  },
  {
   "cell_type": "markdown",
   "metadata": {},
   "source": [
    "### 6.1 Разложить функцию в ряд Фурье по косинусам на отрезке $x \\in [-2;0]$"
   ]
  },
  {
   "cell_type": "markdown",
   "metadata": {},
   "source": [
    "` ¯\\_(ツ)_/¯`"
   ]
  },
  {
   "cell_type": "markdown",
   "metadata": {},
   "source": [
    "### 6.2 Построить график функции и ее разложения"
   ]
  },
  {
   "cell_type": "markdown",
   "metadata": {},
   "source": [
    "`¯\\_(ツ)_/¯`"
   ]
  },
  {
   "cell_type": "markdown",
   "metadata": {},
   "source": [
    "## Task 7"
   ]
  },
  {
   "cell_type": "markdown",
   "metadata": {},
   "source": [
    "Найти неопределенный интеграл:"
   ]
  },
  {
   "cell_type": "markdown",
   "metadata": {},
   "source": [
    "$\n",
    "\\int(2x^2 - 2x - 1 + \\sin x - \\cos x + \\ln x + e^x)dx =\n",
    "\\frac{2x^3}{3} - \\frac{2x^2}{2} - x - \\cos x - \\sin x + x\\ln x - x + e^x + C\n",
    "$"
   ]
  },
  {
   "cell_type": "markdown",
   "metadata": {},
   "source": [
    "## Task 8"
   ]
  },
  {
   "cell_type": "markdown",
   "metadata": {},
   "source": [
    "Найти неопределенный интеграл:"
   ]
  },
  {
   "cell_type": "markdown",
   "metadata": {},
   "source": [
    "$\n",
    "\\int(2x + 6xz^2 - 5x^2y - 3\\ln z)dx = \n",
    "x^2(1 + 3z^2) - \\frac{5yx^3}{3} - 3x\\ln z + C\n",
    "$"
   ]
  },
  {
   "cell_type": "markdown",
   "metadata": {},
   "source": [
    "## Task 9"
   ]
  },
  {
   "cell_type": "markdown",
   "metadata": {},
   "source": [
    "Вычислить определенный интеграл:"
   ]
  },
  {
   "cell_type": "markdown",
   "metadata": {},
   "source": [
    "$\n",
    "\\int_0^{\\pi} 3x^2 \\sin(2x) dx = -\\frac{1}{2}\\pi^3cos(2\\pi) = \\frac{\\pi^3}{2}\n",
    "$"
   ]
  },
  {
   "cell_type": "markdown",
   "metadata": {},
   "source": [
    "## Task 10"
   ]
  },
  {
   "cell_type": "markdown",
   "metadata": {},
   "source": [
    "Найти неопределенный интеграл:"
   ]
  },
  {
   "cell_type": "markdown",
   "metadata": {},
   "source": [
    "$\n",
    "\\int \\frac{1}{\\sqrt{x+1}} dx = \\int \\frac{\\sqrt{x+1}}{x+1} dx = ...\n",
    "$"
   ]
  },
  {
   "cell_type": "markdown",
   "metadata": {},
   "source": [
    "`¯\\_(ツ)_/¯ :(`"
   ]
  }
 ],
 "metadata": {
  "kernelspec": {
   "display_name": "Python 3",
   "language": "python",
   "name": "python3"
  },
  "language_info": {
   "codemirror_mode": {
    "name": "ipython",
    "version": 3
   },
   "file_extension": ".py",
   "mimetype": "text/x-python",
   "name": "python",
   "nbconvert_exporter": "python",
   "pygments_lexer": "ipython3",
   "version": "3.7.3"
  }
 },
 "nbformat": 4,
 "nbformat_minor": 2
}
