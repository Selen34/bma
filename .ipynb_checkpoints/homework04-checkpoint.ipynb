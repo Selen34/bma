{
 "cells": [
  {
   "cell_type": "markdown",
   "metadata": {},
   "source": [
    "## 1. Предложить пример функции, не имеющей предела в нуле и в бесконечностях."
   ]
  },
  {
   "cell_type": "code",
   "execution_count": 1,
   "metadata": {},
   "outputs": [],
   "source": [
    "import numpy as np\n",
    "from matplotlib import pyplot as plt\n",
    "%matplotlib inline"
   ]
  },
  {
   "cell_type": "markdown",
   "metadata": {},
   "source": [
    "\\begin{equation}\n",
    "y = \\frac{1}{x} + x\n",
    "\\end{equation}"
   ]
  },
  {
   "cell_type": "code",
   "execution_count": 9,
   "metadata": {},
   "outputs": [],
   "source": [
    "x1 = np.linspace(-10, -0.001, 100)\n",
    "x2 = np.linspace(0.001, 10, 100)\n",
    "def funcy(x):\n",
    "    return (1/x) + x"
   ]
  },
  {
   "cell_type": "code",
   "execution_count": 10,
   "metadata": {},
   "outputs": [
    {
     "data": {
      "image/png": "[encoded data removed]",
      "text/plain": [
       "<Figure size 432x288 with 1 Axes>"
      ]
     },
     "metadata": {
      "needs_background": "light"
     },
     "output_type": "display_data"
    }
   ],
   "source": [
    "plt.ylim((-10, 10))\n",
    "plt.plot(x1, funcy(x1))\n",
    "plt.plot(x2, funcy(x2))\n",
    "plt.show()"
   ]
  },
  {
   "cell_type": "markdown",
   "metadata": {},
   "source": [
    "### 2. Привести пример функции, не имеющей предела в точке, но определенной в ней."
   ]
  },
  {
   "cell_type": "markdown",
   "metadata": {},
   "source": [
    "¯\\\\_(ツ)_/¯"
   ]
  },
  {
   "cell_type": "markdown",
   "metadata": {},
   "source": [
    "### 3. Исследовать функцию  по плану:\n",
    "- Область задания и область значений.\n",
    "- Нули функции и их кратность.\n",
    "- Отрезки знакопостоянства.\n",
    "- Интервалы монотонности.\n",
    "- Четность функции.\n",
    "- Ограниченность.\n",
    "- Периодичность."
   ]
  },
  {
   "cell_type": "markdown",
   "metadata": {},
   "source": [
    "\\begin{equation}\n",
    "f(x) = x^3 - x^2\n",
    "\\end{equation}"
   ]
  },
  {
   "cell_type": "code",
   "execution_count": 22,
   "metadata": {},
   "outputs": [],
   "source": [
    "def func(x):\n",
    "    return x**3 - x**2"
   ]
  },
  {
   "cell_type": "code",
   "execution_count": 24,
   "metadata": {},
   "outputs": [
    {
     "data": {
      "image/png": "[encoded data removed]",
      "text/plain": [
       "<Figure size 432x288 with 1 Axes>"
      ]
     },
     "metadata": {
      "needs_background": "light"
     },
     "output_type": "display_data"
    }
   ],
   "source": [
    "x = np.linspace(-10, 10, 100)\n",
    "plt.plot(x, func(x))\n",
    "plt.show()"
   ]
  },
  {
   "cell_type": "markdown",
   "metadata": {},
   "source": [
    "1. функция определена от минус бесконечности до плюс бесконечности, область значений такая же"
   ]
  },
  {
   "cell_type": "markdown",
   "metadata": {},
   "source": [
    "2. имеет единственный ноль в 0"
   ]
  },
  {
   "cell_type": "markdown",
   "metadata": {},
   "source": [
    "\\begin{equation}\n",
    "f(-x) = (-x)^3 - (-x)^2 = -x^3 - x^2 \\neq f(x)\n",
    "\\end{equation}"
   ]
  },
  {
   "cell_type": "markdown",
   "metadata": {},
   "source": [
    "3. Функция не является ни четной ни нечетной"
   ]
  },
  {
   "cell_type": "markdown",
   "metadata": {},
   "source": [
    "\\begin{equation}\n",
    "f'(x) = 3x^2 - 2x\n",
    "\\end{equation}"
   ]
  },
  {
   "cell_type": "markdown",
   "metadata": {},
   "source": [
    "\\begin{equation}\n",
    "3x^2 - 2x = 0 \\\\\n",
    "x_{1,2} = [0, \\frac{2}{3}]\n",
    "\\end{equation}"
   ]
  },
  {
   "cell_type": "code",
   "execution_count": 20,
   "metadata": {},
   "outputs": [],
   "source": [
    "def f1(x):\n",
    "    return 3*(x**2) - 2*x"
   ]
  },
  {
   "cell_type": "code",
   "execution_count": 21,
   "metadata": {},
   "outputs": [
    {
     "data": {
      "text/plain": [
       "(5, -0.3333333333333333, 1)"
      ]
     },
     "execution_count": 21,
     "metadata": {},
     "output_type": "execute_result"
    }
   ],
   "source": [
    "f1(-1), f1(1/3), f1(1)"
   ]
  },
  {
   "cell_type": "markdown",
   "metadata": {},
   "source": [
    "4. функция возрастает от - бесконечности до 0, убывает от - до 2/3 и возрастает от 2/3 до + бесконечности"
   ]
  },
  {
   "cell_type": "markdown",
   "metadata": {},
   "source": [
    "5. Функция не является монотонной"
   ]
  },
  {
   "cell_type": "markdown",
   "metadata": {},
   "source": [
    "\\begin{equation}\n",
    "\\lim_{x \\rightarrow + \\infty}\n",
    "x^3 - x^2 = + \\infty\n",
    "\\end{equation}"
   ]
  },
  {
   "cell_type": "markdown",
   "metadata": {},
   "source": [
    "\\begin{equation}\n",
    "\\lim_{x \\rightarrow - \\infty}\n",
    "x^3 - x^2 = - \\infty\n",
    "\\end{equation}"
   ]
  },
  {
   "cell_type": "markdown",
   "metadata": {},
   "source": [
    "6. Функция не ограничена и не периодическая"
   ]
  },
  {
   "cell_type": "markdown",
   "metadata": {},
   "source": [
    "### 4. Найти пределы"
   ]
  },
  {
   "cell_type": "markdown",
   "metadata": {},
   "source": [
    "1. \n",
    "\\begin{equation}\n",
    "\\lim_{x \\rightarrow 0}\n",
    "\\frac{3x^3 - 2x^2}{4x^2} = \\lim_{x \\rightarrow 0}\n",
    "\\frac{3x - 2}{4} = - \\frac{1}{2}\n",
    "\\end{equation}"
   ]
  },
  {
   "cell_type": "markdown",
   "metadata": {},
   "source": [
    "2.\n",
    "\\begin{equation}\n",
    "\\lim_{x \\rightarrow 0}\n",
    "\\frac{\\sqrt{1+x}-1}{\\sqrt[3]{1+x}-1} = \\lim_{x \\rightarrow 0}\n",
    "\\frac{(1+x-1)(\\sqrt[3]{1+x}^2+\\sqrt[3]{1+x}+1)}{(1+x-1)(\\sqrt{1+x} + 1)} = \\frac{3}{2}\n",
    "\\end{equation}"
   ]
  },
  {
   "cell_type": "markdown",
   "metadata": {},
   "source": [
    "3.\n",
    "\\begin{equation}\n",
    "\\lim_{x \\rightarrow \\infty}\n",
    "( \\frac{x+3}{x} )^{4x+1} = \\text{¯\\\\_(ツ)_/¯}\n",
    "\\end{equation}"
   ]
  },
  {
   "cell_type": "markdown",
   "metadata": {},
   "source": [
    "### 5. Теоремы о пределах"
   ]
  },
  {
   "cell_type": "markdown",
   "metadata": {},
   "source": [
    "1.\n",
    "\\begin{equation}\n",
    "\\lim_{x \\rightarrow 0}\n",
    "\\frac{\\sin(2x)}{4x} = \\frac{1}{2}\n",
    "\\end{equation}"
   ]
  },
  {
   "cell_type": "markdown",
   "metadata": {},
   "source": [
    "2.\n",
    "\\begin{equation}\n",
    "\\lim_{x \\rightarrow 0}\n",
    "\\frac{x}{\\sin(x)} = 1\n",
    "\\end{equation}"
   ]
  },
  {
   "cell_type": "markdown",
   "metadata": {},
   "source": [
    "3.\n",
    "\\begin{equation}\n",
    "\\lim_{x \\rightarrow 0}\n",
    "\\frac{x}{\\arcsin(x)} = \\frac{x}{x} = 1\n",
    "\\end{equation}"
   ]
  },
  {
   "cell_type": "markdown",
   "metadata": {},
   "source": [
    "4.\n",
    "\\begin{equation}\n",
    "\\lim_{x \\rightarrow 0}\n",
    "(\\frac{4x+3}{4x-3})^{6x} = 1\n",
    "\\end{equation}"
   ]
  },
  {
   "cell_type": "markdown",
   "metadata": {},
   "source": [
    "5\n",
    "\\begin{equation}\n",
    "\\lim_{x \\rightarrow 0}\n",
    "\\frac{\\sin{x} + \\ln{x}}{x} = \\lim_{x \\rightarrow 0}\n",
    "\\frac{{x} + \\ln{x}}{x} = \\text{¯\\\\_(ツ)_/¯}\n",
    "\\end{equation}"
   ]
  },
  {
   "cell_type": "markdown",
   "metadata": {},
   "source": [
    "6\n",
    "\\begin{equation}\n",
    "\\lim_{x \\rightarrow 0}\n",
    "\\frac{\\sin{x} - \\ln{x}}{x} =  \\lim_{x \\rightarrow 0}\n",
    "\\frac{{x} - \\ln{x}}{x} = \\text{¯\\\\_(ツ)_/¯}\n",
    "\\end{equation}"
   ]
  },
  {
   "cell_type": "code",
   "execution_count": null,
   "metadata": {},
   "outputs": [],
   "source": []
  }
 ],
 "metadata": {
  "kernelspec": {
   "display_name": "Python 3",
   "language": "python",
   "name": "python3"
  },
  "language_info": {
   "codemirror_mode": {
    "name": "ipython",
    "version": 3
   },
   "file_extension": ".py",
   "mimetype": "text/x-python",
   "name": "python",
   "nbconvert_exporter": "python",
   "pygments_lexer": "ipython3",
   "version": "3.7.3"
  }
 },
 "nbformat": 4,
 "nbformat_minor": 2
}
