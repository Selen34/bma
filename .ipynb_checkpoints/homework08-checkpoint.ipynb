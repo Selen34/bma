{
 "cells": [
  {
   "cell_type": "markdown",
   "metadata": {},
   "source": [
    "## 1. Найти область определения функции"
   ]
  },
  {
   "cell_type": "markdown",
   "metadata": {},
   "source": [
    "\\begin{equation}\n",
    "z= \\sqrt{1-x^3} + \\ln(y^2-1)\n",
    "\\end{equation}"
   ]
  },
  {
   "cell_type": "markdown",
   "metadata": {},
   "source": [
    "Ответ: $х \\leq 1, y > 1$"
   ]
  },
  {
   "cell_type": "markdown",
   "metadata": {},
   "source": [
    "## 2. Найти производные 1-го порядка функции"
   ]
  },
  {
   "cell_type": "markdown",
   "metadata": {},
   "source": [
    "\\begin{equation}\n",
    "z = \\left(1 + \\frac{\\ln x}{\\ln y} \\right)^3\n",
    "\\end{equation}"
   ]
  },
  {
   "cell_type": "markdown",
   "metadata": {},
   "source": [
    "\\begin{equation}\n",
    "Z'_x = \\frac{3}{x \\ln y} \\left( 1 + \\frac{2 \\ln x}{\\ln y} + \\frac{\\ln^2 x}{\\ln^2 y} \\right) =\n",
    "\\end{equation}"
   ]
  },
  {
   "cell_type": "markdown",
   "metadata": {},
   "source": [
    "\\begin{equation}\n",
    "\\frac{3 \\ln^2 y + 6 \\ln x \\ln y + 3 \\ln^2 x}{x \\ln^3 y} =\n",
    "\\end{equation}"
   ]
  },
  {
   "cell_type": "markdown",
   "metadata": {},
   "source": [
    "\\begin{equation}\n",
    "\\frac{3(\\ln x + \\ln y)^2}{x \\ln^3 y}\n",
    "\\end{equation}"
   ]
  },
  {
   "cell_type": "markdown",
   "metadata": {},
   "source": [
    "\\begin{equation}\n",
    "Z'_y = 3 \\left( 1 + \\frac{\\ln x}{\\ln y} \\right)^2 (-\\frac{1}{\\ln^2 y}) \\frac{1}{y} =\n",
    "\\end{equation}"
   ]
  },
  {
   "cell_type": "markdown",
   "metadata": {},
   "source": [
    "\\begin{equation}\n",
    "\\frac{-(3 \\ln^2 + 6 \\ln x \\ln y + 3 \\ln^2 x)}{y \\ln^4 y} =\n",
    "\\end{equation}"
   ]
  },
  {
   "cell_type": "markdown",
   "metadata": {},
   "source": [
    "\\begin{equation}\n",
    "- \\frac{3(\\ln x + \\ln y)^2}{y \\ln^4 y}\n",
    "\\end{equation}"
   ]
  },
  {
   "cell_type": "markdown",
   "metadata": {},
   "source": [
    "## 3. Найти полный дифференциал функции в точке (1;1)"
   ]
  },
  {
   "cell_type": "markdown",
   "metadata": {},
   "source": [
    "\\begin{equation}\n",
    "z = \\sqrt{2xy + \\cos{\\frac{x}{y}}}\n",
    "\\end{equation}"
   ]
  },
  {
   "cell_type": "markdown",
   "metadata": {},
   "source": [
    "\\begin{equation}\n",
    "Z'_x = \\frac{2y - \\frac{\\sin{\\frac{x}{y}}}{y}}{2 \\sqrt{2xy + \\cos{\\frac{x}{y}}}}\n",
    "\\end{equation}"
   ]
  },
  {
   "cell_type": "markdown",
   "metadata": {},
   "source": [
    "\\begin{equation}\n",
    "Z'_y = \\frac{2x + \\frac{\\sin{\\frac{x}{y}}}{y^2}}{2 \\sqrt{2xy + \\cos{\\frac{x}{y}}}}\n",
    "\\end{equation}"
   ]
  },
  {
   "cell_type": "markdown",
   "metadata": {},
   "source": [
    "\\begin{equation}\n",
    "Z'_x(1,1) = \\frac{2 - \\sin 1}{2 \\sqrt{2 + \\cos 1}} = 0.57\n",
    "\\end{equation}"
   ]
  },
  {
   "cell_type": "markdown",
   "metadata": {},
   "source": [
    "\\begin{equation}\n",
    "Z'_y(1,1) = \\frac{2 + \\sin 1}{2 \\sqrt{2 + \\cos 1}} = 0.58\n",
    "\\end{equation}"
   ]
  },
  {
   "cell_type": "markdown",
   "metadata": {},
   "source": [
    "Ответ: dW = 0.57dx + 0.58dy"
   ]
  },
  {
   "cell_type": "markdown",
   "metadata": {},
   "source": [
    "## 4. Исследовать на экстремум функцию"
   ]
  },
  {
   "cell_type": "markdown",
   "metadata": {},
   "source": [
    "\\begin{equation}\n",
    "z = x^2 + xy + y^2 - 6x - 9y\n",
    "\\end{equation}"
   ]
  },
  {
   "cell_type": "markdown",
   "metadata": {},
   "source": [
    "\\begin{equation}\n",
    "Z'_x = 2x + y -6 \\\\\n",
    "Z'_y = 2y + x -9\n",
    "\\end{equation}"
   ]
  },
  {
   "cell_type": "markdown",
   "metadata": {},
   "source": [
    "\\begin{equation}\n",
    "\\left\\{ \\begin{array}{ll}\n",
    " 2x + y - 6 = 0\\\\\n",
    " x + 2y - 9 = 0\n",
    "  \\end{array} \\right.\n",
    "\\end{equation}"
   ]
  },
  {
   "cell_type": "markdown",
   "metadata": {},
   "source": [
    "\\begin{equation}\n",
    "\\left\\{ \\begin{array}{ll}\n",
    " y = 6 - 2x\\\\\n",
    " x + 2(6 - 2x) - 9 = 0\n",
    "  \\end{array} \\right.\n",
    "\\end{equation}"
   ]
  },
  {
   "cell_type": "markdown",
   "metadata": {},
   "source": [
    "\\begin{equation}\n",
    " 3x = 3, x = 1, y = 6 - 2 = 4\n",
    "\\end{equation}"
   ]
  },
  {
   "cell_type": "markdown",
   "metadata": {},
   "source": [
    "\\begin{equation}\n",
    "A = Z''xx = 2 \\\\\n",
    "B = Z''xy = 1 \\\\\n",
    "C = Z''yy = 2 \\\\\n",
    "Z''yx = 1\n",
    "\\end{equation}"
   ]
  },
  {
   "cell_type": "markdown",
   "metadata": {},
   "source": [
    "\\begin{equation}\n",
    "AC - B^2 = 4 - 1 = 3 > 0\n",
    "\\end{equation}"
   ]
  },
  {
   "cell_type": "markdown",
   "metadata": {},
   "source": [
    "В точке (1, 4) есть минимум"
   ]
  },
  {
   "cell_type": "markdown",
   "metadata": {},
   "source": [
    "Z(1, 4) = 1 + 4 + 16 - 6 - 36 = -21"
   ]
  },
  {
   "cell_type": "code",
   "execution_count": null,
   "metadata": {},
   "outputs": [],
   "source": []
  }
 ],
 "metadata": {
  "kernelspec": {
   "display_name": "Python 3",
   "language": "python",
   "name": "python3"
  },
  "language_info": {
   "codemirror_mode": {
    "name": "ipython",
    "version": 3
   },
   "file_extension": ".py",
   "mimetype": "text/x-python",
   "name": "python",
   "nbconvert_exporter": "python",
   "pygments_lexer": "ipython3",
   "version": "3.7.3"
  }
 },
 "nbformat": 4,
 "nbformat_minor": 2
}
